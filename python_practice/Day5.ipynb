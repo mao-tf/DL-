{
 "cells": [
  {
   "cell_type": "code",
   "execution_count": 40,
   "metadata": {},
   "outputs": [
    {
     "name": "stdout",
     "output_type": "stream",
     "text": [
      "               年齢          身長         体重\n",
      "count   30.000000   30.000000  30.000000\n",
      "mean    45.939742  160.342295  62.059442\n",
      "std     31.637432   21.406433  17.340396\n",
      "min    -19.331848  129.028540  32.029179\n",
      "25%     32.587419  143.677615  51.680215\n",
      "50%     47.412126  157.880377  58.019484\n",
      "75%     68.500759  171.955861  69.262596\n",
      "max    111.549020  215.466102  99.317288\n",
      "年齢 平均: 45.93974175295831, 最小:-19.331848419737213, 最大:111.5490199213329, 標準偏差:31.105672365822564\n",
      "身長 平均: 160.34229512159342, 最小:129.02853951818622, 最大:215.46610170198835, 標準偏差:21.046635686870967\n",
      "体重 平均: 62.05944152677618, 最小:32.02917919468682, 最大:99.3172877731323, 標準偏差:17.048940061435065\n",
      "性別code 平均: 0.6333333333333333, 最小:0, 最大:1, 標準偏差:0.4818944098266986\n",
      "               年齢          身長         体重     性別code\n",
      "count   30.000000   30.000000  30.000000  30.000000\n",
      "mean    45.939742  160.342295  62.059442   0.633333\n",
      "std     31.637432   21.406433  17.340396   0.490133\n",
      "min    -19.331848  129.028540  32.029179   0.000000\n",
      "25%     32.587419  143.677615  51.680215   0.000000\n",
      "50%     47.412126  157.880377  58.019484   1.000000\n",
      "75%     68.500759  171.955861  69.262596   1.000000\n",
      "max    111.549020  215.466102  99.317288   1.000000\n"
     ]
    }
   ],
   "source": [
    "import numpy as np \n",
    "import pandas as pd\n",
    "\n",
    "np.random.seed(10)\n",
    "\n",
    "data={'年齢': np.random.normal(loc=40,scale=30,size=30),\n",
    "      '性別': np.random.choice(['男性','女性'],size=30),\n",
    "      '身長': np.random.normal(loc=165,scale=20,size=30),\n",
    "      '体重': np.random.normal(loc=60,scale=15,size=30)\n",
    "      }\n",
    "\n",
    "df=pd.DataFrame(data)\n",
    "\n",
    "df.to_csv('/Users/miyoshimao/DL基礎/python_practice/test1.csv',index=False)\n",
    "\n",
    "df=pd.read_csv('/Users/miyoshimao/DL基礎/python_practice/test1.csv')\n",
    "\n",
    "print(df.describe())\n",
    "\n",
    "df['性別code'] = pd.Categorical(df['性別']).codes\n",
    "#print(df)\n",
    "\n",
    "for col in df.select_dtypes(include='number').columns.tolist():\n",
    "    print(f'{col} 平均: {np.mean(df[col])}, 最小:{np.min(df[col])}, 最大:{np.max(df[col])}, 標準偏差:{np.std(df[col])}')\n",
    "\n",
    "print(df.describe())\n"
   ]
  },
  {
   "cell_type": "code",
   "execution_count": 8,
   "metadata": {},
   "outputs": [
    {
     "name": "stdout",
     "output_type": "stream",
     "text": [
      "            年齢  性別          身長         体重\n",
      "0    79.947595  女性  157.754964  45.074385\n",
      "1    61.458369  男性  142.417375  99.317288\n",
      "11   76.091121  男性  166.929247  57.185325\n",
      "13   70.848222  男性  160.564751  84.262622\n",
      "18   84.536110  女性  136.802623  90.752373\n",
      "23  111.549020  男性  136.738640  51.097818\n",
      "24   73.710738  男性  215.466102  53.427407\n",
      "25   90.178666  男性  171.946356  64.221491\n",
      "27   81.939891  男性  143.807655  85.041777\n",
      "           年齢  性別          身長         体重\n",
      "8   40.128743  男性  166.575769  99.286878\n",
      "13  70.848222  男性  160.564751  84.262622\n",
      "            年齢  性別          身長         体重\n",
      "24   73.710738  男性  215.466102  53.427407\n",
      "22   47.982105  男性  201.170864  41.404791\n",
      "4    58.640079  女性  190.645534  66.494393\n",
      "19    7.605853  男性  190.047972  62.186610\n",
      "9    34.761994  女性  183.368273  69.953894\n",
      "6    47.965348  女性  176.553161  32.029179\n",
      "20  -19.331848  女性  174.391255  48.757647\n",
      "28   31.862560  女性  171.959029  43.846723\n",
      "25   90.178666  男性  171.946356  64.221491\n",
      "21  -12.301169  男性  171.538433  55.347888\n",
      "11   76.091121  男性  166.929247  57.185325\n",
      "8    40.128743  男性  166.575769  99.286878\n",
      "5    18.397433  男性  161.563892  59.932598\n",
      "13   70.848222  男性  160.564751  84.262622\n",
      "2    -6.362009  男性  158.005790  54.886704\n",
      "0    79.947595  女性  157.754964  45.074385\n",
      "10   52.990786  女性  155.146053  82.374208\n",
      "12   11.048030  女性  151.944801  69.547539\n",
      "17   44.054106  男性  151.295853  68.407767\n",
      "26   42.974476  男性  147.252810  56.906705\n",
      "3    39.748485  男性  143.945470  57.568588\n",
      "27   81.939891  男性  143.807655  85.041777\n",
      "14   46.858904  男性  143.634269  58.470380\n",
      "1    61.458369  男性  142.417375  99.317288\n",
      "15   53.354128  男性  140.446159  55.258788\n",
      "18   84.536110  女性  136.802623  90.752373\n",
      "23  111.549020  男性  136.738640  51.097818\n",
      "7    43.256456  女性  135.500502  50.884112\n",
      "29   58.396126  女性  133.826711  64.504092\n",
      "16    5.901934  男性  129.028540  33.353277\n"
     ]
    }
   ],
   "source": [
    "df=pd.read_csv('/Users/miyoshimao/DL基礎/python_practice/test1.csv')\n",
    "df.columns.tolist()\n",
    "\n",
    "print(df[df['年齢']>=60])\n",
    "print(df[(df['身長']>=160)&(df['体重']>=70)])\n",
    "print(df.sort_values(by='身長',ascending=False))"
   ]
  },
  {
   "cell_type": "code",
   "execution_count": 14,
   "metadata": {},
   "outputs": [
    {
     "name": "stdout",
     "output_type": "stream",
     "text": [
      "性別\n",
      "女性    484.073234\n",
      "男性    894.119018\n",
      "Name: 年齢, dtype: float64\n",
      "            身長         体重\n",
      "性別                       \n",
      "女性  160.717537  60.383504\n",
      "男性  160.125050  63.029721\n",
      "性別\n",
      "女性    11\n",
      "男性    19\n",
      "dtype: int64\n"
     ]
    }
   ],
   "source": [
    "print(df.groupby('性別')['年齢'].sum())\n",
    "print(df.groupby('性別')[['身長', '体重']].mean())\n",
    "print(df.groupby('性別').size())"
   ]
  },
  {
   "cell_type": "code",
   "execution_count": 15,
   "metadata": {},
   "outputs": [
    {
     "data": {
      "text/plain": [
       "<pandas.core.groupby.generic.DataFrameGroupBy object at 0x7fe7a1428220>"
      ]
     },
     "execution_count": 15,
     "metadata": {},
     "output_type": "execute_result"
    }
   ],
   "source": [
    "df.groupby('性別')"
   ]
  },
  {
   "cell_type": "code",
   "execution_count": 16,
   "metadata": {},
   "outputs": [
    {
     "data": {
      "text/html": [
       "<div>\n",
       "<style scoped>\n",
       "    .dataframe tbody tr th:only-of-type {\n",
       "        vertical-align: middle;\n",
       "    }\n",
       "\n",
       "    .dataframe tbody tr th {\n",
       "        vertical-align: top;\n",
       "    }\n",
       "\n",
       "    .dataframe thead th {\n",
       "        text-align: right;\n",
       "    }\n",
       "</style>\n",
       "<table border=\"1\" class=\"dataframe\">\n",
       "  <thead>\n",
       "    <tr style=\"text-align: right;\">\n",
       "      <th></th>\n",
       "      <th>年齢</th>\n",
       "    </tr>\n",
       "    <tr>\n",
       "      <th>性別</th>\n",
       "      <th></th>\n",
       "    </tr>\n",
       "  </thead>\n",
       "  <tbody>\n",
       "    <tr>\n",
       "      <th>女性</th>\n",
       "      <td>44.006658</td>\n",
       "    </tr>\n",
       "    <tr>\n",
       "      <th>男性</th>\n",
       "      <td>47.058896</td>\n",
       "    </tr>\n",
       "  </tbody>\n",
       "</table>\n",
       "</div>"
      ],
      "text/plain": [
       "           年齢\n",
       "性別           \n",
       "女性  44.006658\n",
       "男性  47.058896"
      ]
     },
     "execution_count": 16,
     "metadata": {},
     "output_type": "execute_result"
    }
   ],
   "source": [
    "# 性別ごとの年齢の平均\n",
    "df.pivot_table(values='年齢', index='性別', aggfunc='mean')\n"
   ]
  },
  {
   "cell_type": "code",
   "execution_count": 20,
   "metadata": {},
   "outputs": [
    {
     "name": "stdout",
     "output_type": "stream",
     "text": [
      "         mean                   std           \n",
      "           体重         年齢         体重         年齢\n",
      "性別                                            \n",
      "女性  60.383504  44.006658  17.812788  29.636988\n",
      "男性  63.029721  47.058896  17.477370  33.481730\n"
     ]
    }
   ],
   "source": [
    "print(df.pivot_table(values=['年齢','体重'], index='性別', aggfunc=['mean', 'std']))\n"
   ]
  },
  {
   "cell_type": "code",
   "execution_count": 26,
   "metadata": {},
   "outputs": [
    {
     "data": {
      "text/html": [
       "<div>\n",
       "<style scoped>\n",
       "    .dataframe tbody tr th:only-of-type {\n",
       "        vertical-align: middle;\n",
       "    }\n",
       "\n",
       "    .dataframe tbody tr th {\n",
       "        vertical-align: top;\n",
       "    }\n",
       "\n",
       "    .dataframe thead th {\n",
       "        text-align: right;\n",
       "    }\n",
       "</style>\n",
       "<table border=\"1\" class=\"dataframe\">\n",
       "  <thead>\n",
       "    <tr style=\"text-align: right;\">\n",
       "      <th>年齢カテゴリ</th>\n",
       "      <th>40↑</th>\n",
       "      <th>40↓</th>\n",
       "      <th>All</th>\n",
       "    </tr>\n",
       "    <tr>\n",
       "      <th>性別</th>\n",
       "      <th></th>\n",
       "      <th></th>\n",
       "      <th></th>\n",
       "    </tr>\n",
       "  </thead>\n",
       "  <tbody>\n",
       "    <tr>\n",
       "      <th>女性</th>\n",
       "      <td>7</td>\n",
       "      <td>4</td>\n",
       "      <td>11</td>\n",
       "    </tr>\n",
       "    <tr>\n",
       "      <th>男性</th>\n",
       "      <td>13</td>\n",
       "      <td>6</td>\n",
       "      <td>19</td>\n",
       "    </tr>\n",
       "    <tr>\n",
       "      <th>All</th>\n",
       "      <td>20</td>\n",
       "      <td>10</td>\n",
       "      <td>30</td>\n",
       "    </tr>\n",
       "  </tbody>\n",
       "</table>\n",
       "</div>"
      ],
      "text/plain": [
       "年齢カテゴリ  40↑  40↓  All\n",
       "性別                   \n",
       "女性        7    4   11\n",
       "男性       13    6   19\n",
       "All      20   10   30"
      ]
     },
     "execution_count": 26,
     "metadata": {},
     "output_type": "execute_result"
    }
   ],
   "source": [
    "df['年齢カテゴリ'] = df['年齢'].apply(lambda x: '40↑' if x >= 40 else '40↓')\n",
    "pd.crosstab(index=df['性別'],columns=df['年齢カテゴリ'], margins=True)"
   ]
  },
  {
   "cell_type": "code",
   "execution_count": 47,
   "metadata": {},
   "outputs": [],
   "source": [
    "import matplotlib.pyplot as plt\n",
    "import seaborn as sns\n",
    "\n",
    "# ノートブックなら以下を書くとグラフが表示されやすい（VSCodeでもOK）\n",
    "%matplotlib inline\n"
   ]
  },
  {
   "cell_type": "code",
   "execution_count": 51,
   "metadata": {},
   "outputs": [
    {
     "data": {
      "image/png": "[encoded data removed]",
      "text/plain": [
       "<Figure size 432x288 with 1 Axes>"
      ]
     },
     "metadata": {
      "needs_background": "light"
     },
     "output_type": "display_data"
    }
   ],
   "source": [
    "sns.histplot(df['年齢'], bins=10)\n",
    "import matplotlib.pyplot as plt\n",
    "plt.rcParams['font.family'] = 'Osaka'  # or 'Hiragino Sans'\n",
    "plt.title(\"年齢の分布\")\n",
    "plt.xlabel(\"年齢\")\n",
    "plt.ylabel(\"人数\")\n",
    "plt.show()\n"
   ]
  },
  {
   "cell_type": "code",
   "execution_count": 41,
   "metadata": {},
   "outputs": [
    {
     "data": {
      "text/html": [
       "<div>\n",
       "<style scoped>\n",
       "    .dataframe tbody tr th:only-of-type {\n",
       "        vertical-align: middle;\n",
       "    }\n",
       "\n",
       "    .dataframe tbody tr th {\n",
       "        vertical-align: top;\n",
       "    }\n",
       "\n",
       "    .dataframe thead th {\n",
       "        text-align: right;\n",
       "    }\n",
       "</style>\n",
       "<table border=\"1\" class=\"dataframe\">\n",
       "  <thead>\n",
       "    <tr style=\"text-align: right;\">\n",
       "      <th></th>\n",
       "      <th>年齢</th>\n",
       "      <th>性別</th>\n",
       "      <th>身長</th>\n",
       "      <th>体重</th>\n",
       "      <th>性別code</th>\n",
       "    </tr>\n",
       "  </thead>\n",
       "  <tbody>\n",
       "    <tr>\n",
       "      <th>0</th>\n",
       "      <td>79.947595</td>\n",
       "      <td>女性</td>\n",
       "      <td>157.754964</td>\n",
       "      <td>45.074385</td>\n",
       "      <td>0</td>\n",
       "    </tr>\n",
       "    <tr>\n",
       "      <th>1</th>\n",
       "      <td>61.458369</td>\n",
       "      <td>男性</td>\n",
       "      <td>142.417375</td>\n",
       "      <td>99.317288</td>\n",
       "      <td>1</td>\n",
       "    </tr>\n",
       "    <tr>\n",
       "      <th>2</th>\n",
       "      <td>-6.362009</td>\n",
       "      <td>男性</td>\n",
       "      <td>158.005790</td>\n",
       "      <td>54.886704</td>\n",
       "      <td>1</td>\n",
       "    </tr>\n",
       "    <tr>\n",
       "      <th>3</th>\n",
       "      <td>39.748485</td>\n",
       "      <td>男性</td>\n",
       "      <td>143.945470</td>\n",
       "      <td>57.568588</td>\n",
       "      <td>1</td>\n",
       "    </tr>\n",
       "    <tr>\n",
       "      <th>4</th>\n",
       "      <td>58.640079</td>\n",
       "      <td>女性</td>\n",
       "      <td>190.645534</td>\n",
       "      <td>66.494393</td>\n",
       "      <td>0</td>\n",
       "    </tr>\n",
       "    <tr>\n",
       "      <th>5</th>\n",
       "      <td>18.397433</td>\n",
       "      <td>男性</td>\n",
       "      <td>161.563892</td>\n",
       "      <td>59.932598</td>\n",
       "      <td>1</td>\n",
       "    </tr>\n",
       "    <tr>\n",
       "      <th>6</th>\n",
       "      <td>47.965348</td>\n",
       "      <td>女性</td>\n",
       "      <td>176.553161</td>\n",
       "      <td>32.029179</td>\n",
       "      <td>0</td>\n",
       "    </tr>\n",
       "    <tr>\n",
       "      <th>7</th>\n",
       "      <td>43.256456</td>\n",
       "      <td>女性</td>\n",
       "      <td>135.500502</td>\n",
       "      <td>50.884112</td>\n",
       "      <td>0</td>\n",
       "    </tr>\n",
       "    <tr>\n",
       "      <th>8</th>\n",
       "      <td>40.128743</td>\n",
       "      <td>男性</td>\n",
       "      <td>166.575769</td>\n",
       "      <td>99.286878</td>\n",
       "      <td>1</td>\n",
       "    </tr>\n",
       "    <tr>\n",
       "      <th>9</th>\n",
       "      <td>34.761994</td>\n",
       "      <td>女性</td>\n",
       "      <td>183.368273</td>\n",
       "      <td>69.953894</td>\n",
       "      <td>0</td>\n",
       "    </tr>\n",
       "    <tr>\n",
       "      <th>10</th>\n",
       "      <td>52.990786</td>\n",
       "      <td>女性</td>\n",
       "      <td>155.146053</td>\n",
       "      <td>82.374208</td>\n",
       "      <td>0</td>\n",
       "    </tr>\n",
       "    <tr>\n",
       "      <th>11</th>\n",
       "      <td>76.091121</td>\n",
       "      <td>男性</td>\n",
       "      <td>166.929247</td>\n",
       "      <td>57.185325</td>\n",
       "      <td>1</td>\n",
       "    </tr>\n",
       "    <tr>\n",
       "      <th>12</th>\n",
       "      <td>11.048030</td>\n",
       "      <td>女性</td>\n",
       "      <td>151.944801</td>\n",
       "      <td>69.547539</td>\n",
       "      <td>0</td>\n",
       "    </tr>\n",
       "    <tr>\n",
       "      <th>13</th>\n",
       "      <td>70.848222</td>\n",
       "      <td>男性</td>\n",
       "      <td>160.564751</td>\n",
       "      <td>84.262622</td>\n",
       "      <td>1</td>\n",
       "    </tr>\n",
       "    <tr>\n",
       "      <th>14</th>\n",
       "      <td>46.858904</td>\n",
       "      <td>男性</td>\n",
       "      <td>143.634269</td>\n",
       "      <td>58.470380</td>\n",
       "      <td>1</td>\n",
       "    </tr>\n",
       "    <tr>\n",
       "      <th>15</th>\n",
       "      <td>53.354128</td>\n",
       "      <td>男性</td>\n",
       "      <td>140.446159</td>\n",
       "      <td>55.258788</td>\n",
       "      <td>1</td>\n",
       "    </tr>\n",
       "    <tr>\n",
       "      <th>16</th>\n",
       "      <td>5.901934</td>\n",
       "      <td>男性</td>\n",
       "      <td>129.028540</td>\n",
       "      <td>33.353277</td>\n",
       "      <td>1</td>\n",
       "    </tr>\n",
       "    <tr>\n",
       "      <th>17</th>\n",
       "      <td>44.054106</td>\n",
       "      <td>男性</td>\n",
       "      <td>151.295853</td>\n",
       "      <td>68.407767</td>\n",
       "      <td>1</td>\n",
       "    </tr>\n",
       "    <tr>\n",
       "      <th>18</th>\n",
       "      <td>84.536110</td>\n",
       "      <td>女性</td>\n",
       "      <td>136.802623</td>\n",
       "      <td>90.752373</td>\n",
       "      <td>0</td>\n",
       "    </tr>\n",
       "    <tr>\n",
       "      <th>19</th>\n",
       "      <td>7.605853</td>\n",
       "      <td>男性</td>\n",
       "      <td>190.047972</td>\n",
       "      <td>62.186610</td>\n",
       "      <td>1</td>\n",
       "    </tr>\n",
       "    <tr>\n",
       "      <th>20</th>\n",
       "      <td>-19.331848</td>\n",
       "      <td>女性</td>\n",
       "      <td>174.391255</td>\n",
       "      <td>48.757647</td>\n",
       "      <td>0</td>\n",
       "    </tr>\n",
       "    <tr>\n",
       "      <th>21</th>\n",
       "      <td>-12.301169</td>\n",
       "      <td>男性</td>\n",
       "      <td>171.538433</td>\n",
       "      <td>55.347888</td>\n",
       "      <td>1</td>\n",
       "    </tr>\n",
       "    <tr>\n",
       "      <th>22</th>\n",
       "      <td>47.982105</td>\n",
       "      <td>男性</td>\n",
       "      <td>201.170864</td>\n",
       "      <td>41.404791</td>\n",
       "      <td>1</td>\n",
       "    </tr>\n",
       "    <tr>\n",
       "      <th>23</th>\n",
       "      <td>111.549020</td>\n",
       "      <td>男性</td>\n",
       "      <td>136.738640</td>\n",
       "      <td>51.097818</td>\n",
       "      <td>1</td>\n",
       "    </tr>\n",
       "    <tr>\n",
       "      <th>24</th>\n",
       "      <td>73.710738</td>\n",
       "      <td>男性</td>\n",
       "      <td>215.466102</td>\n",
       "      <td>53.427407</td>\n",
       "      <td>1</td>\n",
       "    </tr>\n",
       "    <tr>\n",
       "      <th>25</th>\n",
       "      <td>90.178666</td>\n",
       "      <td>男性</td>\n",
       "      <td>171.946356</td>\n",
       "      <td>64.221491</td>\n",
       "      <td>1</td>\n",
       "    </tr>\n",
       "    <tr>\n",
       "      <th>26</th>\n",
       "      <td>42.974476</td>\n",
       "      <td>男性</td>\n",
       "      <td>147.252810</td>\n",
       "      <td>56.906705</td>\n",
       "      <td>1</td>\n",
       "    </tr>\n",
       "    <tr>\n",
       "      <th>27</th>\n",
       "      <td>81.939891</td>\n",
       "      <td>男性</td>\n",
       "      <td>143.807655</td>\n",
       "      <td>85.041777</td>\n",
       "      <td>1</td>\n",
       "    </tr>\n",
       "    <tr>\n",
       "      <th>28</th>\n",
       "      <td>31.862560</td>\n",
       "      <td>女性</td>\n",
       "      <td>171.959029</td>\n",
       "      <td>43.846723</td>\n",
       "      <td>0</td>\n",
       "    </tr>\n",
       "    <tr>\n",
       "      <th>29</th>\n",
       "      <td>58.396126</td>\n",
       "      <td>女性</td>\n",
       "      <td>133.826711</td>\n",
       "      <td>64.504092</td>\n",
       "      <td>0</td>\n",
       "    </tr>\n",
       "  </tbody>\n",
       "</table>\n",
       "</div>"
      ],
      "text/plain": [
       "            年齢  性別          身長         体重  性別code\n",
       "0    79.947595  女性  157.754964  45.074385       0\n",
       "1    61.458369  男性  142.417375  99.317288       1\n",
       "2    -6.362009  男性  158.005790  54.886704       1\n",
       "3    39.748485  男性  143.945470  57.568588       1\n",
       "4    58.640079  女性  190.645534  66.494393       0\n",
       "5    18.397433  男性  161.563892  59.932598       1\n",
       "6    47.965348  女性  176.553161  32.029179       0\n",
       "7    43.256456  女性  135.500502  50.884112       0\n",
       "8    40.128743  男性  166.575769  99.286878       1\n",
       "9    34.761994  女性  183.368273  69.953894       0\n",
       "10   52.990786  女性  155.146053  82.374208       0\n",
       "11   76.091121  男性  166.929247  57.185325       1\n",
       "12   11.048030  女性  151.944801  69.547539       0\n",
       "13   70.848222  男性  160.564751  84.262622       1\n",
       "14   46.858904  男性  143.634269  58.470380       1\n",
       "15   53.354128  男性  140.446159  55.258788       1\n",
       "16    5.901934  男性  129.028540  33.353277       1\n",
       "17   44.054106  男性  151.295853  68.407767       1\n",
       "18   84.536110  女性  136.802623  90.752373       0\n",
       "19    7.605853  男性  190.047972  62.186610       1\n",
       "20  -19.331848  女性  174.391255  48.757647       0\n",
       "21  -12.301169  男性  171.538433  55.347888       1\n",
       "22   47.982105  男性  201.170864  41.404791       1\n",
       "23  111.549020  男性  136.738640  51.097818       1\n",
       "24   73.710738  男性  215.466102  53.427407       1\n",
       "25   90.178666  男性  171.946356  64.221491       1\n",
       "26   42.974476  男性  147.252810  56.906705       1\n",
       "27   81.939891  男性  143.807655  85.041777       1\n",
       "28   31.862560  女性  171.959029  43.846723       0\n",
       "29   58.396126  女性  133.826711  64.504092       0"
      ]
     },
     "execution_count": 41,
     "metadata": {},
     "output_type": "execute_result"
    }
   ],
   "source": [
    "df"
   ]
  },
  {
   "cell_type": "code",
   "execution_count": 57,
   "metadata": {},
   "outputs": [
    {
     "data": {
      "image/png": "[encoded data removed]",
      "text/plain": [
       "<Figure size 432x288 with 1 Axes>"
      ]
     },
     "metadata": {
      "needs_background": "light"
     },
     "output_type": "display_data"
    }
   ],
   "source": [
    "plt.rcParams['font.family'] = 'Hiragino Sans'\n",
    "sns.barplot(x='性別code', y='身長', data=df)\n",
    "plt.xticks(ticks=[0, 1], labels=[\"男性\", \"女性\"])\n",
    "plt.title(\"性別ごとの身長平均\")\n",
    "plt.show()\n"
   ]
  },
  {
   "cell_type": "code",
   "execution_count": 56,
   "metadata": {},
   "outputs": [
    {
     "data": {
      "image/png": "[encoded data removed]",
      "text/plain": [
       "<Figure size 432x288 with 1 Axes>"
      ]
     },
     "metadata": {
      "needs_background": "light"
     },
     "output_type": "display_data"
    }
   ],
   "source": [
    "import seaborn as sns\n",
    "import matplotlib.pyplot as plt\n",
    "\n",
    "plt.rcParams['font.family'] = 'Hiragino Sans'\n",
    "plt.rcParams['axes.unicode_minus'] = False\n",
    "\n",
    "sns.scatterplot(x='身長', y='体重', hue='性別', data=df)\n",
    "plt.title(\"身長と体重の関係\")\n",
    "plt.xlabel(\"身長\")\n",
    "plt.ylabel(\"体重\")\n",
    "plt.show()\n"
   ]
  },
  {
   "cell_type": "code",
   "execution_count": 58,
   "metadata": {},
   "outputs": [
    {
     "data": {
      "text/html": [
       "<div>\n",
       "<style scoped>\n",
       "    .dataframe tbody tr th:only-of-type {\n",
       "        vertical-align: middle;\n",
       "    }\n",
       "\n",
       "    .dataframe tbody tr th {\n",
       "        vertical-align: top;\n",
       "    }\n",
       "\n",
       "    .dataframe thead th {\n",
       "        text-align: right;\n",
       "    }\n",
       "</style>\n",
       "<table border=\"1\" class=\"dataframe\">\n",
       "  <thead>\n",
       "    <tr style=\"text-align: right;\">\n",
       "      <th></th>\n",
       "      <th>年齢</th>\n",
       "      <th>身長</th>\n",
       "      <th>体重</th>\n",
       "      <th>性別code</th>\n",
       "    </tr>\n",
       "  </thead>\n",
       "  <tbody>\n",
       "    <tr>\n",
       "      <th>count</th>\n",
       "      <td>30.000000</td>\n",
       "      <td>30.000000</td>\n",
       "      <td>30.000000</td>\n",
       "      <td>30.000000</td>\n",
       "    </tr>\n",
       "    <tr>\n",
       "      <th>mean</th>\n",
       "      <td>45.939742</td>\n",
       "      <td>160.342295</td>\n",
       "      <td>62.059442</td>\n",
       "      <td>0.633333</td>\n",
       "    </tr>\n",
       "    <tr>\n",
       "      <th>std</th>\n",
       "      <td>31.637432</td>\n",
       "      <td>21.406433</td>\n",
       "      <td>17.340396</td>\n",
       "      <td>0.490133</td>\n",
       "    </tr>\n",
       "    <tr>\n",
       "      <th>min</th>\n",
       "      <td>-19.331848</td>\n",
       "      <td>129.028540</td>\n",
       "      <td>32.029179</td>\n",
       "      <td>0.000000</td>\n",
       "    </tr>\n",
       "    <tr>\n",
       "      <th>25%</th>\n",
       "      <td>32.587419</td>\n",
       "      <td>143.677615</td>\n",
       "      <td>51.680215</td>\n",
       "      <td>0.000000</td>\n",
       "    </tr>\n",
       "    <tr>\n",
       "      <th>50%</th>\n",
       "      <td>47.412126</td>\n",
       "      <td>157.880377</td>\n",
       "      <td>58.019484</td>\n",
       "      <td>1.000000</td>\n",
       "    </tr>\n",
       "    <tr>\n",
       "      <th>75%</th>\n",
       "      <td>68.500759</td>\n",
       "      <td>171.955861</td>\n",
       "      <td>69.262596</td>\n",
       "      <td>1.000000</td>\n",
       "    </tr>\n",
       "    <tr>\n",
       "      <th>max</th>\n",
       "      <td>111.549020</td>\n",
       "      <td>215.466102</td>\n",
       "      <td>99.317288</td>\n",
       "      <td>1.000000</td>\n",
       "    </tr>\n",
       "  </tbody>\n",
       "</table>\n",
       "</div>"
      ],
      "text/plain": [
       "               年齢          身長         体重     性別code\n",
       "count   30.000000   30.000000  30.000000  30.000000\n",
       "mean    45.939742  160.342295  62.059442   0.633333\n",
       "std     31.637432   21.406433  17.340396   0.490133\n",
       "min    -19.331848  129.028540  32.029179   0.000000\n",
       "25%     32.587419  143.677615  51.680215   0.000000\n",
       "50%     47.412126  157.880377  58.019484   1.000000\n",
       "75%     68.500759  171.955861  69.262596   1.000000\n",
       "max    111.549020  215.466102  99.317288   1.000000"
      ]
     },
     "execution_count": 58,
     "metadata": {},
     "output_type": "execute_result"
    }
   ],
   "source": [
    "df.describe()"
   ]
  },
  {
   "cell_type": "code",
   "execution_count": 59,
   "metadata": {},
   "outputs": [
    {
     "name": "stdout",
     "output_type": "stream",
     "text": [
      "            身長         体重\n",
      "性別                       \n",
      "女性  160.717537  60.383504\n",
      "男性  160.125050  63.029721\n"
     ]
    }
   ],
   "source": [
    "print(df.groupby('性別')[['身長', '体重']].mean())"
   ]
  },
  {
   "cell_type": "code",
   "execution_count": 68,
   "metadata": {},
   "outputs": [
    {
     "data": {
      "text/plain": [
       "<AxesSubplot:xlabel='年齢', ylabel='Count'>"
      ]
     },
     "execution_count": 68,
     "metadata": {},
     "output_type": "execute_result"
    },
    {
     "data": {
      "image/png": "[encoded data removed]",
      "text/plain": [
       "<Figure size 432x288 with 1 Axes>"
      ]
     },
     "metadata": {
      "needs_background": "light"
     },
     "output_type": "display_data"
    }
   ],
   "source": [
    "sns.histplot(data=df,x='年齢', hue='性別',bins=10,multiple='stack')"
   ]
  }
 ],
 "metadata": {
  "kernelspec": {
   "display_name": "base",
   "language": "python",
   "name": "python3"
  },
  "language_info": {
   "codemirror_mode": {
    "name": "ipython",
    "version": 3
   },
   "file_extension": ".py",
   "mimetype": "text/x-python",
   "name": "python",
   "nbconvert_exporter": "python",
   "pygments_lexer": "ipython3",
   "version": "3.8.8"
  }
 },
 "nbformat": 4,
 "nbformat_minor": 2
}
