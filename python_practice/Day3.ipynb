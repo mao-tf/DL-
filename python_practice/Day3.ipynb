{
 "cells": [
  {
   "cell_type": "code",
   "execution_count": 2,
   "metadata": {},
   "outputs": [
    {
     "name": "stdout",
     "output_type": "stream",
     "text": [
      "こんにちは、miyoshiさん。得点は85点です。\n"
     ]
    }
   ],
   "source": [
    "class Student:\n",
    "    def __init__(self, name, score):\n",
    "        self.name = name\n",
    "        self.score = score\n",
    "\n",
    "    def greet(self):\n",
    "        print(f\"こんにちは、{self.name}さん。得点は{self.score}点です。\")\n",
    "\n",
    "# インスタンス生成\n",
    "s1 = Student(\"miyoshi\", 85)\n",
    "s1.greet()\n"
   ]
  },
  {
   "cell_type": "code",
   "execution_count": 4,
   "metadata": {},
   "outputs": [
    {
     "name": "stdout",
     "output_type": "stream",
     "text": [
      "ポチはワン！と鳴いた\n"
     ]
    }
   ],
   "source": [
    "# 条件：\n",
    "# - name（名前）と voice（鳴き声）をもつ\n",
    "# - bark() メソッドを使うと、「○○は『○○』と鳴いた」と出力する\n",
    "\n",
    "class Dog:\n",
    "    def __init__(self, name, voice):\n",
    "        self.name=name\n",
    "        self.voice=voice \n",
    "    \n",
    "    def bark(self):\n",
    "        print(f'{self.name}は{self.voice}と鳴いた')\n",
    "\n",
    "# 期待される動作：\n",
    "d = Dog(\"ポチ\", \"ワン！\")\n",
    "d.bark()\n",
    "# → ポチは「ワン！」と鳴いた。\n",
    "\n"
   ]
  },
  {
   "cell_type": "code",
   "execution_count": 1,
   "metadata": {},
   "outputs": [
    {
     "name": "stdout",
     "output_type": "stream",
     "text": [
      "りんごは120円です\n"
     ]
    }
   ],
   "source": [
    "class Item:\n",
    "    def __init__(self,name,price):\n",
    "        self.name=name\n",
    "        self.price=price\n",
    "    def show(self):\n",
    "        print(f'{self.name}は{self.price}円です')\n",
    "\n",
    "item = Item(\"りんご\", 120)\n",
    "item.show()\n",
    "# → りんごは120円です"
   ]
  },
  {
   "cell_type": "code",
   "execution_count": 2,
   "metadata": {},
   "outputs": [
    {
     "name": "stdout",
     "output_type": "stream",
     "text": [
      "りんごは120円です\n",
      "バナナは200円です\n"
     ]
    }
   ],
   "source": [
    "item1 = Item(\"りんご\", 120)\n",
    "item2 = Item(\"バナナ\", 200)\n",
    "\n",
    "item1.show()  # → りんごは120円です\n",
    "item2.show()  # → バナナは200円です"
   ]
  },
  {
   "cell_type": "markdown",
   "metadata": {},
   "source": [
    "ShoppingCart クラスを定義\n",
    "\n",
    "中に Item クラスのオブジェクトをリストで保持\n",
    "\n",
    "以下の2つのメソッドをもたせる：\n",
    "\n",
    "add_item(item) → 商品（Item）を追加\n",
    "\n",
    "total_price() → 合計金額を計算して返す"
   ]
  },
  {
   "cell_type": "code",
   "execution_count": 24,
   "metadata": {},
   "outputs": [
    {
     "name": "stdout",
     "output_type": "stream",
     "text": [
      "りんご\n",
      "バナナ\n"
     ]
    },
    {
     "data": {
      "text/plain": [
       "560"
      ]
     },
     "execution_count": 24,
     "metadata": {},
     "output_type": "execute_result"
    }
   ],
   "source": [
    "class ShoppingCart:\n",
    "    def __init__(self):\n",
    "        self.item_list=[]\n",
    "\n",
    "    def add_item(self,item,quantity):\n",
    "        self.item_list.append((item,quantity))\n",
    "        \n",
    "    def total_price(self):\n",
    "        total=0\n",
    "        for item, quantity in self.item_list:\n",
    "            total+=item.price * quantity\n",
    "        return total\n",
    "    \n",
    "    def show_items(self):\n",
    "        for item,quantity in self.item_list:\n",
    "            print(f'{item.name}')\n",
    "    \n",
    "    def remove_item(self,name):\n",
    "        for item, quantity in self.item_list:\n",
    "            if item.name==name:\n",
    "                self.item_list.remove(item)\n",
    "                break\n",
    "\n",
    "cart = ShoppingCart()\n",
    "cart.add_item(Item(\"りんご\", 120), 3)\n",
    "cart.add_item(Item(\"バナナ\", 200), 1)\n",
    "\n",
    "cart.show_items()\n",
    "# → りんご（3個）\n",
    "# → バナナ（1個）\n",
    "\n",
    "cart.total_price()\n",
    "# → 合計金額: 560円\n",
    "\n"
   ]
  },
  {
   "cell_type": "code",
   "execution_count": 25,
   "metadata": {},
   "outputs": [
    {
     "name": "stdout",
     "output_type": "stream",
     "text": [
      "miyoshiさん、点数は90点です\n"
     ]
    }
   ],
   "source": [
    "students = [\n",
    "    {\"name\": \"miyoshi\", \"score\": 90},\n",
    "    {\"name\": \"suzuki\", \"score\": 85},\n",
    "    {\"name\": \"tanaka\", \"score\": 78},\n",
    "]\n",
    "\n",
    "def greet(student):\n",
    "    print(f\"{student['name']}さん、点数は{student['score']}点です\")\n",
    "\n",
    "greet(students[0])"
   ]
  },
  {
   "cell_type": "code",
   "execution_count": 26,
   "metadata": {},
   "outputs": [
    {
     "name": "stdout",
     "output_type": "stream",
     "text": [
      "miyoshiさん、点数は90点です\n",
      "suzukiさん、点数は85点です\n",
      "tanakaさん、点数は78点です\n"
     ]
    }
   ],
   "source": [
    "class Student:\n",
    "    def __init__(self, name, score):\n",
    "        self.name=name\n",
    "        self.score=score\n",
    "    \n",
    "    def greet(self):\n",
    "        print(f'{self.name}さん、点数は{self.score}点です')\n",
    "\n",
    "for student in students:\n",
    "    s=Student(student['name'],student['score'])\n",
    "    s.greet()\n"
   ]
  },
  {
   "cell_type": "code",
   "execution_count": 37,
   "metadata": {},
   "outputs": [
    {
     "name": "stdout",
     "output_type": "stream",
     "text": [
      "三好さん(21歳)、喉痛\n",
      "三好さん(21歳)、熱\n",
      "経過観察\n",
      "緊急事態\n"
     ]
    }
   ],
   "source": [
    "class Patient:\n",
    "    def __init__(self,name,age,symptom):\n",
    "        self.name=name\n",
    "        self.age=age\n",
    "        self.symptom=symptom\n",
    "        self.symptom_history=[]\n",
    "        self.symptom_history.append(symptom)\n",
    "    \n",
    "    def introduce(self):\n",
    "        print(f'{self.name}さん({self.age}歳)、{self.symptom}')\n",
    "    \n",
    "    def update_symptom(self,new_symptom):\n",
    "        self.symptom_history.append(new_symptom)\n",
    "        self.symptom=new_symptom\n",
    "    \n",
    "    def is_emergency(self):\n",
    "        if '呼吸困難' in self.symptom_history or 'けいれん' in self.symptom_history:\n",
    "            print('緊急事態')\n",
    "        else:\n",
    "            print('経過観察')\n",
    "\n",
    "p1 = Patient(\"三好\", 21, \"喉痛\")\n",
    "p1.introduce()\n",
    "\n",
    "p1.update_symptom(\"熱\")\n",
    "p1.introduce()\n",
    "p1.is_emergency()\n",
    "\n",
    "p1.update_symptom('呼吸困難')\n",
    "p1.is_emergency()"
   ]
  }
 ],
 "metadata": {
  "kernelspec": {
   "display_name": "base",
   "language": "python",
   "name": "python3"
  },
  "language_info": {
   "codemirror_mode": {
    "name": "ipython",
    "version": 3
   },
   "file_extension": ".py",
   "mimetype": "text/x-python",
   "name": "python",
   "nbconvert_exporter": "python",
   "pygments_lexer": "ipython3",
   "version": "3.8.8"
  }
 },
 "nbformat": 4,
 "nbformat_minor": 2
}
