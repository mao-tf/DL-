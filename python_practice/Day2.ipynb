{
 "cells": [
  {
   "cell_type": "code",
   "execution_count": null,
   "metadata": {},
   "outputs": [],
   "source": [
    "# 入力された整数 n に対して (n**2, n**3) を返す関数を作れ\n",
    "# 例: power(2) → (4, 8)\n",
    "def power(n):\n",
    "    return n*2, n*3 "
   ]
  },
  {
   "cell_type": "code",
   "execution_count": 1,
   "metadata": {},
   "outputs": [
    {
     "name": "stdout",
     "output_type": "stream",
     "text": [
      "7\n"
     ]
    }
   ],
   "source": [
    "# 入力された文字列の長さを返す関数 length_of_string を作成せよ\n",
    "# ヒント: len()\n",
    "def length_of_string(text):\n",
    "    text_len=len(text)\n",
    "    return text_len\n",
    "\n",
    "text='これは例文です'\n",
    "print(length_of_string(text))"
   ]
  },
  {
   "cell_type": "code",
   "execution_count": 5,
   "metadata": {},
   "outputs": [
    {
     "name": "stdout",
     "output_type": "stream",
     "text": [
      "15\n"
     ]
    },
    {
     "data": {
      "text/plain": [
       "3.0"
      ]
     },
     "execution_count": 5,
     "metadata": {},
     "output_type": "execute_result"
    }
   ],
   "source": [
    "# 平均値を計算する関数 average(lst)\n",
    "# 例: average([1,2,3,4]) → 2.5\n",
    "def average(lst):\n",
    "    sum=0\n",
    "    for i in lst:\n",
    "        sum+=i\n",
    "    print(sum)\n",
    "    return sum/len(lst)\n",
    "\n",
    "lst=[2,3,4,5,1]\n",
    "average(lst)"
   ]
  },
  {
   "cell_type": "code",
   "execution_count": 8,
   "metadata": {},
   "outputs": [
    {
     "data": {
      "text/plain": [
       "[7, 14, 21, 28, 35, 42, 49, 56, 63, 70, 77, 84, 91, 98]"
      ]
     },
     "execution_count": 8,
     "metadata": {},
     "output_type": "execute_result"
    }
   ],
   "source": [
    "# [7, 14, 21, ..., 98]\n",
    "seven_list=[]\n",
    "for i in range(101):\n",
    "    if i%7==0:\n",
    "        seven_list.append(i)\n",
    "seven_list\n",
    "\n",
    "seven_list=[i for i in range(1,101) if i%7==0]\n",
    "seven_list"
   ]
  },
  {
   "cell_type": "code",
   "execution_count": 10,
   "metadata": {},
   "outputs": [
    {
     "name": "stdout",
     "output_type": "stream",
     "text": [
      "[1, 9, 25, 49, 81, 121, 169, 225, 289, 361]\n"
     ]
    }
   ],
   "source": [
    "# 例: [1, 9, 25, ..., 361]\n",
    "print([i**2 for i in range(1,21) if i%2==1])"
   ]
  },
  {
   "cell_type": "code",
   "execution_count": 12,
   "metadata": {},
   "outputs": [
    {
     "name": "stdout",
     "output_type": "stream",
     "text": [
      "['d', 'c', 'b']\n"
     ]
    }
   ],
   "source": [
    "# 結果: [\"d\", \"c\", \"b\"]\n",
    "m_list=[\"dog\", \"cat\", \"bird\"]\n",
    "print([f'{i[0]}' for i in m_list])"
   ]
  },
  {
   "cell_type": "code",
   "execution_count": 14,
   "metadata": {},
   "outputs": [
    {
     "name": "stdout",
     "output_type": "stream",
     "text": [
      "30\n",
      "30\n"
     ]
    }
   ],
   "source": [
    "numbers = [5, 7, 10, 12, 3, 8]\n",
    "# 結果: 10 + 12 + 8 = 30\n",
    "s=0\n",
    "for i in numbers:\n",
    "    if i%2==0:\n",
    "        s+=i\n",
    "print(s)\n",
    "\n",
    "print(sum([i for i in numbers if i%2==0]))"
   ]
  },
  {
   "cell_type": "code",
   "execution_count": 19,
   "metadata": {},
   "outputs": [
    {
     "name": "stdout",
     "output_type": "stream",
     "text": [
      "dict_keys(['A', 'B', 'C'])\n",
      "Aさんは80点です\n",
      "Bさんは90点です\n",
      "Cさんは70点です\n"
     ]
    }
   ],
   "source": [
    "scores = {\"A\": 80, \"B\": 90, \"C\": 70}\n",
    "# キーだけ表示 → A, B, C\n",
    "print(scores.keys())\n",
    "for key, score in scores.items():\n",
    "    print(f'{key}さんは{score}点です')"
   ]
  },
  {
   "cell_type": "code",
   "execution_count": 20,
   "metadata": {},
   "outputs": [
    {
     "name": "stdout",
     "output_type": "stream",
     "text": [
      "B:90\n",
      "D:85\n"
     ]
    }
   ],
   "source": [
    "scores = {\"A\": 80, \"B\": 90, \"C\": 70, \"D\": 85}\n",
    "# 結果: B:90, D:85\n",
    "for key, score in scores.items():\n",
    "    if score>=85:\n",
    "        print(f'{key}:{score}')"
   ]
  },
  {
   "cell_type": "code",
   "execution_count": 23,
   "metadata": {},
   "outputs": [
    {
     "name": "stdout",
     "output_type": "stream",
     "text": [
      "{'A': 90, 'B': 100, 'C': 78}\n"
     ]
    }
   ],
   "source": [
    "# ヒント: forループ＋input＋辞書追加\n",
    "data=[]\n",
    "for i in range(3):\n",
    "    key=input('名前を入力してください')\n",
    "    score=int(input('点数を入力してください'))\n",
    "    data.append((key,score))\n",
    "scores=dict(data)\n",
    "print(scores)"
   ]
  },
  {
   "cell_type": "code",
   "execution_count": 27,
   "metadata": {},
   "outputs": [
    {
     "name": "stdout",
     "output_type": "stream",
     "text": [
      "{'apple': 5, 'banana': 6, 'cherry': 6}\n",
      "{'apple': 5, 'banana': 6, 'cherry': 6}\n"
     ]
    }
   ],
   "source": [
    "# 例: [\"apple\", \"banana\", \"cherry\"] → {\"apple\": 5, \"banana\": 6, \"cherry\": 6}\n",
    "text=[\"apple\", \"banana\", \"cherry\"]\n",
    "text_len={}\n",
    "for i in text:\n",
    "    text_len[i]=len(i)\n",
    "print(text_len)\n",
    "\n",
    "print({i: len(i) for i in text})"
   ]
  }
 ],
 "metadata": {
  "kernelspec": {
   "display_name": "base",
   "language": "python",
   "name": "python3"
  },
  "language_info": {
   "codemirror_mode": {
    "name": "ipython",
    "version": 3
   },
   "file_extension": ".py",
   "mimetype": "text/x-python",
   "name": "python",
   "nbconvert_exporter": "python",
   "pygments_lexer": "ipython3",
   "version": "3.8.8"
  }
 },
 "nbformat": 4,
 "nbformat_minor": 2
}
