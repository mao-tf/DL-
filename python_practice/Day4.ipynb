{
 "cells": [
  {
   "cell_type": "code",
   "execution_count": 34,
   "metadata": {},
   "outputs": [
    {
     "data": {
      "text/plain": [
       "array([[ 1,  2,  3],\n",
       "       [ 4, 10,  6],\n",
       "       [ 7,  8,  9]])"
      ]
     },
     "execution_count": 34,
     "metadata": {},
     "output_type": "execute_result"
    }
   ],
   "source": [
    "import numpy as np\n",
    "\n",
    "# 例: [[1,2,3],[4,5,6],[7,8,9]] → 5 を 10 にする\n",
    "a=[[1,2,3],[4,5,6],[7,8,9]]\n",
    "a[1][1]=10\n",
    "a=np.array(a)\n",
    "a"
   ]
  },
  {
   "cell_type": "code",
   "execution_count": 5,
   "metadata": {},
   "outputs": [
    {
     "name": "stdout",
     "output_type": "stream",
     "text": [
      "[ 0  1  4  3  8  5 12  7 16  9]\n"
     ]
    }
   ],
   "source": [
    "import numpy as np\n",
    "\n",
    "a = np.array([0,1,2,3,4,5,6,7,8,9])\n",
    "a[a % 2 == 0] *= 2\n",
    "print(a)\n"
   ]
  },
  {
   "cell_type": "code",
   "execution_count": 6,
   "metadata": {},
   "outputs": [
    {
     "data": {
      "text/plain": [
       "array([ 0,  1,  2,  9,  4,  5, 18,  7,  8, 27, 10, 11, 36, 13, 14, 45, 16,\n",
       "       17, 54, 19])"
      ]
     },
     "execution_count": 6,
     "metadata": {},
     "output_type": "execute_result"
    }
   ],
   "source": [
    "a=[]\n",
    "for i in range(20):\n",
    "    a.append(i)\n",
    "a=np.array(a)\n",
    "\n",
    "a[a%3==0]*=3\n",
    "a"
   ]
  },
  {
   "cell_type": "code",
   "execution_count": 7,
   "metadata": {},
   "outputs": [
    {
     "data": {
      "text/plain": [
       "array([ 0, -1,  2, -1,  4, -1,  6, -1,  8, -1])"
      ]
     },
     "execution_count": 7,
     "metadata": {},
     "output_type": "execute_result"
    }
   ],
   "source": [
    "a=np.array([i for i in range(10)])\n",
    "\n",
    "a[a%2==1]=-1\n",
    "a"
   ]
  },
  {
   "cell_type": "code",
   "execution_count": 8,
   "metadata": {},
   "outputs": [
    {
     "data": {
      "text/plain": [
       "array([21, 22, 23, 24, 25, 26, 27, 28, 29, 30, 31, 32, 33, 34, 35, 36, 37,\n",
       "       38, 39, 40, 41, 42, 43, 44, 45, 46, 47, 48, 49, 50])"
      ]
     },
     "execution_count": 8,
     "metadata": {},
     "output_type": "execute_result"
    }
   ],
   "source": [
    "a=np.array([i for i in range(10,51,1)])\n",
    "a[a>20]"
   ]
  },
  {
   "cell_type": "code",
   "execution_count": 10,
   "metadata": {},
   "outputs": [
    {
     "data": {
      "text/plain": [
       "array([12, 14, 16, 18, 20])"
      ]
     },
     "execution_count": 10,
     "metadata": {},
     "output_type": "execute_result"
    }
   ],
   "source": [
    "a = np.array([1, 2, 3, 4, 5])\n",
    "a=a*2+10\n",
    "a"
   ]
  },
  {
   "cell_type": "code",
   "execution_count": 1,
   "metadata": {},
   "outputs": [
    {
     "data": {
      "text/plain": [
       "array([[11, 22],\n",
       "       [31, 42],\n",
       "       [51, 62]])"
      ]
     },
     "execution_count": 1,
     "metadata": {},
     "output_type": "execute_result"
    }
   ],
   "source": [
    "import numpy as np\n",
    "m = np.array([[10, 20],\n",
    "              [30, 40],\n",
    "              [50, 60]])\n",
    "v = np.array([1, 2])\n",
    "\n",
    "for vec in m:\n",
    "    vec+=v\n",
    "\n",
    "m\n",
    "\n",
    "# → 結果: [[11, 22], [31, 42], [51, 62]]\n"
   ]
  },
  {
   "cell_type": "code",
   "execution_count": 2,
   "metadata": {},
   "outputs": [
    {
     "ename": "ValueError",
     "evalue": "operands could not be broadcast together with shapes (3,) (4,) ",
     "output_type": "error",
     "traceback": [
      "\u001b[0;31m---------------------------------------------------------------------------\u001b[0m",
      "\u001b[0;31mValueError\u001b[0m                                Traceback (most recent call last)",
      "\u001b[0;32m<ipython-input-2-337a5a2f3e88>\u001b[0m in \u001b[0;36m<module>\u001b[0;34m\u001b[0m\n\u001b[0;32m----> 1\u001b[0;31m \u001b[0mnp\u001b[0m\u001b[0;34m.\u001b[0m\u001b[0marray\u001b[0m\u001b[0;34m(\u001b[0m\u001b[0;34m[\u001b[0m\u001b[0;36m1\u001b[0m\u001b[0;34m,\u001b[0m\u001b[0;36m2\u001b[0m\u001b[0;34m,\u001b[0m\u001b[0;36m3\u001b[0m\u001b[0;34m]\u001b[0m\u001b[0;34m)\u001b[0m\u001b[0;34m+\u001b[0m\u001b[0mnp\u001b[0m\u001b[0;34m.\u001b[0m\u001b[0marray\u001b[0m\u001b[0;34m(\u001b[0m\u001b[0;34m[\u001b[0m\u001b[0;36m1\u001b[0m\u001b[0;34m,\u001b[0m\u001b[0;36m2\u001b[0m\u001b[0;34m,\u001b[0m\u001b[0;36m3\u001b[0m\u001b[0;34m,\u001b[0m\u001b[0;36m4\u001b[0m\u001b[0;34m]\u001b[0m\u001b[0;34m)\u001b[0m\u001b[0;34m\u001b[0m\u001b[0;34m\u001b[0m\u001b[0m\n\u001b[0m",
      "\u001b[0;31mValueError\u001b[0m: operands could not be broadcast together with shapes (3,) (4,) "
     ]
    }
   ],
   "source": [
    " np.array([1,2,3])+np.array([1,2,3,4]) "
   ]
  },
  {
   "cell_type": "code",
   "execution_count": 7,
   "metadata": {},
   "outputs": [
    {
     "name": "stdout",
     "output_type": "stream",
     "text": [
      "[15 16 17 18 19 20 21 22 23 24 25]\n"
     ]
    }
   ],
   "source": [
    "a=np.arange(10,31,1)\n",
    "print(a[(15<=a) & (a<=25)])"
   ]
  },
  {
   "cell_type": "code",
   "execution_count": 8,
   "metadata": {},
   "outputs": [
    {
     "data": {
      "text/plain": [
       "array([15, 11, 17, 13, 19, 15, 21, 17, 23, 19, 25])"
      ]
     },
     "execution_count": 8,
     "metadata": {},
     "output_type": "execute_result"
    }
   ],
   "source": [
    "a=np.arange(10,21)\n",
    "a[a%2==0]+=5\n",
    "a"
   ]
  },
  {
   "cell_type": "code",
   "execution_count": 9,
   "metadata": {},
   "outputs": [
    {
     "data": {
      "text/plain": [
       "array([ 10,  20, 100, 100, 100, 100, 100])"
      ]
     },
     "execution_count": 9,
     "metadata": {},
     "output_type": "execute_result"
    }
   ],
   "source": [
    "a=np.arange(10,71,10)\n",
    "a[a>=30]=100\n",
    "a"
   ]
  },
  {
   "cell_type": "code",
   "execution_count": 12,
   "metadata": {},
   "outputs": [
    {
     "data": {
      "text/plain": [
       "array([[1, 2],\n",
       "       [3, 4]])"
      ]
     },
     "execution_count": 12,
     "metadata": {},
     "output_type": "execute_result"
    }
   ],
   "source": [
    "a=np.array([[1,3],\n",
    "           [2,4]])\n",
    "\n",
    "a.T"
   ]
  },
  {
   "cell_type": "code",
   "execution_count": 14,
   "metadata": {},
   "outputs": [
    {
     "data": {
      "text/plain": [
       "array([[19, 22],\n",
       "       [43, 50]])"
      ]
     },
     "execution_count": 14,
     "metadata": {},
     "output_type": "execute_result"
    }
   ],
   "source": [
    "b=np.array([[5,7],[6,8]])\n",
    "\n",
    "a.T@b.T"
   ]
  },
  {
   "cell_type": "markdown",
   "metadata": {},
   "source": [
    "zスコア標準化=(x-平均)/(標準偏差)"
   ]
  },
  {
   "cell_type": "code",
   "execution_count": 15,
   "metadata": {},
   "outputs": [
    {
     "data": {
      "text/plain": [
       "array([-1.41421356, -0.70710678,  0.        ,  0.70710678,  1.41421356])"
      ]
     },
     "execution_count": 15,
     "metadata": {},
     "output_type": "execute_result"
    }
   ],
   "source": [
    "a=np.arange(5,26,5)\n",
    "mean=np.mean(a)\n",
    "std=np.std(a)\n",
    "z=(a-mean)/std\n",
    "z"
   ]
  },
  {
   "cell_type": "code",
   "execution_count": 16,
   "metadata": {},
   "outputs": [
    {
     "data": {
      "text/plain": [
       "9.433981132056603"
      ]
     },
     "execution_count": 16,
     "metadata": {},
     "output_type": "execute_result"
    }
   ],
   "source": [
    "a = np.array([2, 3])\n",
    "b = np.array([7, 11])\n",
    "\n",
    "d=np.linalg.norm(a-b)\n",
    "d"
   ]
  },
  {
   "cell_type": "code",
   "execution_count": 19,
   "metadata": {},
   "outputs": [
    {
     "data": {
      "text/plain": [
       "array([0.  , 0.25, 0.5 , 0.75, 1.  ])"
      ]
     },
     "execution_count": 19,
     "metadata": {},
     "output_type": "execute_result"
    }
   ],
   "source": [
    "a=np.arange(100,901,200)\n",
    "a_=(a-np.min(a))/(np.max(a)-np.min(a))\n",
    "a_"
   ]
  },
  {
   "cell_type": "code",
   "execution_count": 36,
   "metadata": {},
   "outputs": [
    {
     "name": "stdout",
     "output_type": "stream",
     "text": [
      "         身長cm       体重kg          血液\n",
      "0  187.640523  67.880871 -369.538167\n",
      "1  174.001572  94.085470  207.651347\n",
      "2  179.787380        NaN  245.598516\n",
      "3  192.408932  67.433500  -43.589704\n",
      "4  188.675580  73.877265  498.555832\n",
      "5  160.227221  71.673487         NaN\n",
      "6  179.500884  94.881581   98.236533\n",
      "7  168.486428  60.896835   56.306907\n",
      "8  168.967811  71.261354  365.900259\n",
      "9  174.105985  47.918085  354.484579\n"
     ]
    }
   ],
   "source": [
    "import pandas as pd\n",
    "\n",
    "np.random.seed(0)\n",
    "\n",
    "data={'身長cm': np.random.normal(loc=170,scale=10,size=10),\n",
    "      '体重kg': np.random.normal(loc=65,scale=20,size=10),\n",
    "      '血液': np.random.normal(90,180,size=10)\n",
    "}\n",
    "\n",
    "df=pd.DataFrame(data)\n",
    "\n",
    "df.loc[2, '体重kg']=np.nan\n",
    "df.loc[5,'血液']=np.nan\n",
    "\n",
    "print(df)"
   ]
  },
  {
   "cell_type": "code",
   "execution_count": 40,
   "metadata": {},
   "outputs": [
    {
     "data": {
      "text/plain": [
       "身長cm    0\n",
       "体重kg    1\n",
       "血液      1\n",
       "dtype: int64"
      ]
     },
     "execution_count": 40,
     "metadata": {},
     "output_type": "execute_result"
    }
   ],
   "source": [
    "df.isnull().sum()"
   ]
  },
  {
   "cell_type": "code",
   "execution_count": 41,
   "metadata": {},
   "outputs": [
    {
     "data": {
      "text/html": [
       "<div>\n",
       "<style scoped>\n",
       "    .dataframe tbody tr th:only-of-type {\n",
       "        vertical-align: middle;\n",
       "    }\n",
       "\n",
       "    .dataframe tbody tr th {\n",
       "        vertical-align: top;\n",
       "    }\n",
       "\n",
       "    .dataframe thead th {\n",
       "        text-align: right;\n",
       "    }\n",
       "</style>\n",
       "<table border=\"1\" class=\"dataframe\">\n",
       "  <thead>\n",
       "    <tr style=\"text-align: right;\">\n",
       "      <th></th>\n",
       "      <th>身長cm</th>\n",
       "      <th>体重kg</th>\n",
       "      <th>血液</th>\n",
       "    </tr>\n",
       "  </thead>\n",
       "  <tbody>\n",
       "    <tr>\n",
       "      <th>0</th>\n",
       "      <td>187.640523</td>\n",
       "      <td>67.880871</td>\n",
       "      <td>-369.538167</td>\n",
       "    </tr>\n",
       "    <tr>\n",
       "      <th>1</th>\n",
       "      <td>174.001572</td>\n",
       "      <td>94.085470</td>\n",
       "      <td>207.651347</td>\n",
       "    </tr>\n",
       "    <tr>\n",
       "      <th>2</th>\n",
       "      <td>179.787380</td>\n",
       "      <td>72.212050</td>\n",
       "      <td>245.598516</td>\n",
       "    </tr>\n",
       "    <tr>\n",
       "      <th>3</th>\n",
       "      <td>192.408932</td>\n",
       "      <td>67.433500</td>\n",
       "      <td>-43.589704</td>\n",
       "    </tr>\n",
       "    <tr>\n",
       "      <th>4</th>\n",
       "      <td>188.675580</td>\n",
       "      <td>73.877265</td>\n",
       "      <td>498.555832</td>\n",
       "    </tr>\n",
       "    <tr>\n",
       "      <th>5</th>\n",
       "      <td>160.227221</td>\n",
       "      <td>71.673487</td>\n",
       "      <td>157.067345</td>\n",
       "    </tr>\n",
       "    <tr>\n",
       "      <th>6</th>\n",
       "      <td>179.500884</td>\n",
       "      <td>94.881581</td>\n",
       "      <td>98.236533</td>\n",
       "    </tr>\n",
       "    <tr>\n",
       "      <th>7</th>\n",
       "      <td>168.486428</td>\n",
       "      <td>60.896835</td>\n",
       "      <td>56.306907</td>\n",
       "    </tr>\n",
       "    <tr>\n",
       "      <th>8</th>\n",
       "      <td>168.967811</td>\n",
       "      <td>71.261354</td>\n",
       "      <td>365.900259</td>\n",
       "    </tr>\n",
       "    <tr>\n",
       "      <th>9</th>\n",
       "      <td>174.105985</td>\n",
       "      <td>47.918085</td>\n",
       "      <td>354.484579</td>\n",
       "    </tr>\n",
       "  </tbody>\n",
       "</table>\n",
       "</div>"
      ],
      "text/plain": [
       "         身長cm       体重kg          血液\n",
       "0  187.640523  67.880871 -369.538167\n",
       "1  174.001572  94.085470  207.651347\n",
       "2  179.787380  72.212050  245.598516\n",
       "3  192.408932  67.433500  -43.589704\n",
       "4  188.675580  73.877265  498.555832\n",
       "5  160.227221  71.673487  157.067345\n",
       "6  179.500884  94.881581   98.236533\n",
       "7  168.486428  60.896835   56.306907\n",
       "8  168.967811  71.261354  365.900259\n",
       "9  174.105985  47.918085  354.484579"
      ]
     },
     "execution_count": 41,
     "metadata": {},
     "output_type": "execute_result"
    }
   ],
   "source": [
    "df['体重kg']=df['体重kg'].fillna(df['体重kg'].mean())\n",
    "df['血液']=df['血液'].fillna(df['血液'].mean())\n",
    "df"
   ]
  },
  {
   "cell_type": "code",
   "execution_count": 30,
   "metadata": {},
   "outputs": [
    {
     "data": {
      "text/html": [
       "<div>\n",
       "<style scoped>\n",
       "    .dataframe tbody tr th:only-of-type {\n",
       "        vertical-align: middle;\n",
       "    }\n",
       "\n",
       "    .dataframe tbody tr th {\n",
       "        vertical-align: top;\n",
       "    }\n",
       "\n",
       "    .dataframe thead th {\n",
       "        text-align: right;\n",
       "    }\n",
       "</style>\n",
       "<table border=\"1\" class=\"dataframe\">\n",
       "  <thead>\n",
       "    <tr style=\"text-align: right;\">\n",
       "      <th></th>\n",
       "      <th>身長cm</th>\n",
       "      <th>体重kg</th>\n",
       "      <th>血液</th>\n",
       "    </tr>\n",
       "  </thead>\n",
       "  <tbody>\n",
       "    <tr>\n",
       "      <th>0</th>\n",
       "      <td>187.640523</td>\n",
       "      <td>67.880871</td>\n",
       "      <td>-369.538167</td>\n",
       "    </tr>\n",
       "    <tr>\n",
       "      <th>1</th>\n",
       "      <td>174.001572</td>\n",
       "      <td>94.085470</td>\n",
       "      <td>207.651347</td>\n",
       "    </tr>\n",
       "    <tr>\n",
       "      <th>2</th>\n",
       "      <td>179.787380</td>\n",
       "      <td>72.212050</td>\n",
       "      <td>245.598516</td>\n",
       "    </tr>\n",
       "    <tr>\n",
       "      <th>3</th>\n",
       "      <td>192.408932</td>\n",
       "      <td>67.433500</td>\n",
       "      <td>-43.589704</td>\n",
       "    </tr>\n",
       "    <tr>\n",
       "      <th>4</th>\n",
       "      <td>188.675580</td>\n",
       "      <td>73.877265</td>\n",
       "      <td>498.555832</td>\n",
       "    </tr>\n",
       "    <tr>\n",
       "      <th>5</th>\n",
       "      <td>160.227221</td>\n",
       "      <td>71.673487</td>\n",
       "      <td>157.067345</td>\n",
       "    </tr>\n",
       "    <tr>\n",
       "      <th>6</th>\n",
       "      <td>179.500884</td>\n",
       "      <td>94.881581</td>\n",
       "      <td>98.236533</td>\n",
       "    </tr>\n",
       "    <tr>\n",
       "      <th>7</th>\n",
       "      <td>168.486428</td>\n",
       "      <td>60.896835</td>\n",
       "      <td>56.306907</td>\n",
       "    </tr>\n",
       "    <tr>\n",
       "      <th>8</th>\n",
       "      <td>168.967811</td>\n",
       "      <td>71.261354</td>\n",
       "      <td>365.900259</td>\n",
       "    </tr>\n",
       "    <tr>\n",
       "      <th>9</th>\n",
       "      <td>174.105985</td>\n",
       "      <td>47.918085</td>\n",
       "      <td>354.484579</td>\n",
       "    </tr>\n",
       "  </tbody>\n",
       "</table>\n",
       "</div>"
      ],
      "text/plain": [
       "         身長cm       体重kg          血液\n",
       "0  187.640523  67.880871 -369.538167\n",
       "1  174.001572  94.085470  207.651347\n",
       "2  179.787380  72.212050  245.598516\n",
       "3  192.408932  67.433500  -43.589704\n",
       "4  188.675580  73.877265  498.555832\n",
       "5  160.227221  71.673487  157.067345\n",
       "6  179.500884  94.881581   98.236533\n",
       "7  168.486428  60.896835   56.306907\n",
       "8  168.967811  71.261354  365.900259\n",
       "9  174.105985  47.918085  354.484579"
      ]
     },
     "execution_count": 30,
     "metadata": {},
     "output_type": "execute_result"
    }
   ],
   "source": [
    "for col in ['体重kg','血液']:\n",
    "    df[col]=df[col].fillna(df[col].mean())\n",
    "df"
   ]
  },
  {
   "cell_type": "code",
   "execution_count": 42,
   "metadata": {},
   "outputs": [
    {
     "data": {
      "text/html": [
       "<div>\n",
       "<style scoped>\n",
       "    .dataframe tbody tr th:only-of-type {\n",
       "        vertical-align: middle;\n",
       "    }\n",
       "\n",
       "    .dataframe tbody tr th {\n",
       "        vertical-align: top;\n",
       "    }\n",
       "\n",
       "    .dataframe thead th {\n",
       "        text-align: right;\n",
       "    }\n",
       "</style>\n",
       "<table border=\"1\" class=\"dataframe\">\n",
       "  <thead>\n",
       "    <tr style=\"text-align: right;\">\n",
       "      <th></th>\n",
       "      <th>身長cm</th>\n",
       "      <th>体重kg</th>\n",
       "      <th>血液</th>\n",
       "    </tr>\n",
       "  </thead>\n",
       "  <tbody>\n",
       "    <tr>\n",
       "      <th>0</th>\n",
       "      <td>187.640523</td>\n",
       "      <td>67.880871</td>\n",
       "      <td>-369.538167</td>\n",
       "    </tr>\n",
       "    <tr>\n",
       "      <th>1</th>\n",
       "      <td>174.001572</td>\n",
       "      <td>94.085470</td>\n",
       "      <td>207.651347</td>\n",
       "    </tr>\n",
       "    <tr>\n",
       "      <th>2</th>\n",
       "      <td>179.787380</td>\n",
       "      <td>72.212050</td>\n",
       "      <td>245.598516</td>\n",
       "    </tr>\n",
       "    <tr>\n",
       "      <th>4</th>\n",
       "      <td>188.675580</td>\n",
       "      <td>73.877265</td>\n",
       "      <td>498.555832</td>\n",
       "    </tr>\n",
       "    <tr>\n",
       "      <th>5</th>\n",
       "      <td>160.227221</td>\n",
       "      <td>71.673487</td>\n",
       "      <td>157.067345</td>\n",
       "    </tr>\n",
       "    <tr>\n",
       "      <th>6</th>\n",
       "      <td>179.500884</td>\n",
       "      <td>94.881581</td>\n",
       "      <td>98.236533</td>\n",
       "    </tr>\n",
       "    <tr>\n",
       "      <th>7</th>\n",
       "      <td>168.486428</td>\n",
       "      <td>60.896835</td>\n",
       "      <td>56.306907</td>\n",
       "    </tr>\n",
       "    <tr>\n",
       "      <th>8</th>\n",
       "      <td>168.967811</td>\n",
       "      <td>71.261354</td>\n",
       "      <td>365.900259</td>\n",
       "    </tr>\n",
       "    <tr>\n",
       "      <th>9</th>\n",
       "      <td>174.105985</td>\n",
       "      <td>47.918085</td>\n",
       "      <td>354.484579</td>\n",
       "    </tr>\n",
       "  </tbody>\n",
       "</table>\n",
       "</div>"
      ],
      "text/plain": [
       "         身長cm       体重kg          血液\n",
       "0  187.640523  67.880871 -369.538167\n",
       "1  174.001572  94.085470  207.651347\n",
       "2  179.787380  72.212050  245.598516\n",
       "4  188.675580  73.877265  498.555832\n",
       "5  160.227221  71.673487  157.067345\n",
       "6  179.500884  94.881581   98.236533\n",
       "7  168.486428  60.896835   56.306907\n",
       "8  168.967811  71.261354  365.900259\n",
       "9  174.105985  47.918085  354.484579"
      ]
     },
     "execution_count": 42,
     "metadata": {},
     "output_type": "execute_result"
    }
   ],
   "source": [
    "df=df[df['身長cm']<=190]\n",
    "df"
   ]
  },
  {
   "cell_type": "code",
   "execution_count": 35,
   "metadata": {},
   "outputs": [
    {
     "data": {
      "text/plain": [
       "身長cm    179.787380\n",
       "体重kg     72.212050\n",
       "血液      245.598516\n",
       "Name: 2, dtype: float64"
      ]
     },
     "execution_count": 35,
     "metadata": {},
     "output_type": "execute_result"
    }
   ],
   "source": [
    "df.loc[2]"
   ]
  },
  {
   "cell_type": "code",
   "execution_count": 46,
   "metadata": {},
   "outputs": [
    {
     "name": "stderr",
     "output_type": "stream",
     "text": [
      "<ipython-input-46-9b7b506b33c6>:2: SettingWithCopyWarning: \n",
      "A value is trying to be set on a copy of a slice from a DataFrame.\n",
      "Try using .loc[row_indexer,col_indexer] = value instead\n",
      "\n",
      "See the caveats in the documentation: https://pandas.pydata.org/pandas-docs/stable/user_guide/indexing.html#returning-a-view-versus-a-copy\n",
      "  df[f'{col}_norm']=(df[col]-np.min(df[col]))/(np.max(df[col])-np.min(df[col]))\n"
     ]
    },
    {
     "data": {
      "text/html": [
       "<div>\n",
       "<style scoped>\n",
       "    .dataframe tbody tr th:only-of-type {\n",
       "        vertical-align: middle;\n",
       "    }\n",
       "\n",
       "    .dataframe tbody tr th {\n",
       "        vertical-align: top;\n",
       "    }\n",
       "\n",
       "    .dataframe thead th {\n",
       "        text-align: right;\n",
       "    }\n",
       "</style>\n",
       "<table border=\"1\" class=\"dataframe\">\n",
       "  <thead>\n",
       "    <tr style=\"text-align: right;\">\n",
       "      <th></th>\n",
       "      <th>身長cm</th>\n",
       "      <th>体重kg</th>\n",
       "      <th>血液</th>\n",
       "      <th>身長cm_norm</th>\n",
       "      <th>体重kg_norm</th>\n",
       "    </tr>\n",
       "  </thead>\n",
       "  <tbody>\n",
       "    <tr>\n",
       "      <th>0</th>\n",
       "      <td>187.640523</td>\n",
       "      <td>67.880871</td>\n",
       "      <td>-369.538167</td>\n",
       "      <td>0.963616</td>\n",
       "      <td>0.425070</td>\n",
       "    </tr>\n",
       "    <tr>\n",
       "      <th>1</th>\n",
       "      <td>174.001572</td>\n",
       "      <td>94.085470</td>\n",
       "      <td>207.651347</td>\n",
       "      <td>0.484188</td>\n",
       "      <td>0.983048</td>\n",
       "    </tr>\n",
       "    <tr>\n",
       "      <th>2</th>\n",
       "      <td>179.787380</td>\n",
       "      <td>72.212050</td>\n",
       "      <td>245.598516</td>\n",
       "      <td>0.687567</td>\n",
       "      <td>0.517295</td>\n",
       "    </tr>\n",
       "    <tr>\n",
       "      <th>4</th>\n",
       "      <td>188.675580</td>\n",
       "      <td>73.877265</td>\n",
       "      <td>498.555832</td>\n",
       "      <td>1.000000</td>\n",
       "      <td>0.552752</td>\n",
       "    </tr>\n",
       "    <tr>\n",
       "      <th>5</th>\n",
       "      <td>160.227221</td>\n",
       "      <td>71.673487</td>\n",
       "      <td>157.067345</td>\n",
       "      <td>0.000000</td>\n",
       "      <td>0.505827</td>\n",
       "    </tr>\n",
       "    <tr>\n",
       "      <th>6</th>\n",
       "      <td>179.500884</td>\n",
       "      <td>94.881581</td>\n",
       "      <td>98.236533</td>\n",
       "      <td>0.677496</td>\n",
       "      <td>1.000000</td>\n",
       "    </tr>\n",
       "    <tr>\n",
       "      <th>7</th>\n",
       "      <td>168.486428</td>\n",
       "      <td>60.896835</td>\n",
       "      <td>56.306907</td>\n",
       "      <td>0.290323</td>\n",
       "      <td>0.276358</td>\n",
       "    </tr>\n",
       "    <tr>\n",
       "      <th>8</th>\n",
       "      <td>168.967811</td>\n",
       "      <td>71.261354</td>\n",
       "      <td>365.900259</td>\n",
       "      <td>0.307244</td>\n",
       "      <td>0.497051</td>\n",
       "    </tr>\n",
       "    <tr>\n",
       "      <th>9</th>\n",
       "      <td>174.105985</td>\n",
       "      <td>47.918085</td>\n",
       "      <td>354.484579</td>\n",
       "      <td>0.487858</td>\n",
       "      <td>0.000000</td>\n",
       "    </tr>\n",
       "  </tbody>\n",
       "</table>\n",
       "</div>"
      ],
      "text/plain": [
       "         身長cm       体重kg          血液  身長cm_norm  体重kg_norm\n",
       "0  187.640523  67.880871 -369.538167   0.963616   0.425070\n",
       "1  174.001572  94.085470  207.651347   0.484188   0.983048\n",
       "2  179.787380  72.212050  245.598516   0.687567   0.517295\n",
       "4  188.675580  73.877265  498.555832   1.000000   0.552752\n",
       "5  160.227221  71.673487  157.067345   0.000000   0.505827\n",
       "6  179.500884  94.881581   98.236533   0.677496   1.000000\n",
       "7  168.486428  60.896835   56.306907   0.290323   0.276358\n",
       "8  168.967811  71.261354  365.900259   0.307244   0.497051\n",
       "9  174.105985  47.918085  354.484579   0.487858   0.000000"
      ]
     },
     "execution_count": 46,
     "metadata": {},
     "output_type": "execute_result"
    }
   ],
   "source": [
    "for col in ['身長cm', '体重kg']:\n",
    "    df[f'{col}_norm']=(df[col]-np.min(df[col]))/(np.max(df[col])-np.min(df[col]))\n",
    "df"
   ]
  },
  {
   "cell_type": "code",
   "execution_count": 47,
   "metadata": {},
   "outputs": [
    {
     "data": {
      "text/html": [
       "<div>\n",
       "<style scoped>\n",
       "    .dataframe tbody tr th:only-of-type {\n",
       "        vertical-align: middle;\n",
       "    }\n",
       "\n",
       "    .dataframe tbody tr th {\n",
       "        vertical-align: top;\n",
       "    }\n",
       "\n",
       "    .dataframe thead th {\n",
       "        text-align: right;\n",
       "    }\n",
       "</style>\n",
       "<table border=\"1\" class=\"dataframe\">\n",
       "  <thead>\n",
       "    <tr style=\"text-align: right;\">\n",
       "      <th></th>\n",
       "      <th>身長cm</th>\n",
       "      <th>体重kg</th>\n",
       "      <th>血液</th>\n",
       "      <th>身長cm_norm</th>\n",
       "      <th>体重kg_norm</th>\n",
       "    </tr>\n",
       "  </thead>\n",
       "  <tbody>\n",
       "    <tr>\n",
       "      <th>0</th>\n",
       "      <td>187.640523</td>\n",
       "      <td>67.880871</td>\n",
       "      <td>-369.538167</td>\n",
       "      <td>0.963616</td>\n",
       "      <td>0.425070</td>\n",
       "    </tr>\n",
       "    <tr>\n",
       "      <th>4</th>\n",
       "      <td>188.675580</td>\n",
       "      <td>73.877265</td>\n",
       "      <td>498.555832</td>\n",
       "      <td>1.000000</td>\n",
       "      <td>0.552752</td>\n",
       "    </tr>\n",
       "  </tbody>\n",
       "</table>\n",
       "</div>"
      ],
      "text/plain": [
       "         身長cm       体重kg          血液  身長cm_norm  体重kg_norm\n",
       "0  187.640523  67.880871 -369.538167   0.963616   0.425070\n",
       "4  188.675580  73.877265  498.555832   1.000000   0.552752"
      ]
     },
     "execution_count": 47,
     "metadata": {},
     "output_type": "execute_result"
    }
   ],
   "source": [
    "filtered_df=df[df['身長cm_norm']>=0.7]\n",
    "filtered_df"
   ]
  }
 ],
 "metadata": {
  "kernelspec": {
   "display_name": "base",
   "language": "python",
   "name": "python3"
  },
  "language_info": {
   "codemirror_mode": {
    "name": "ipython",
    "version": 3
   },
   "file_extension": ".py",
   "mimetype": "text/x-python",
   "name": "python",
   "nbconvert_exporter": "python",
   "pygments_lexer": "ipython3",
   "version": "3.8.8"
  }
 },
 "nbformat": 4,
 "nbformat_minor": 2
}
